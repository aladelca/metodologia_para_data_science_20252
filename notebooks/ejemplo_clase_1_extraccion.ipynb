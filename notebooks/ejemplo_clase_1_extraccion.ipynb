{
 "cells": [
  {
   "cell_type": "code",
   "execution_count": 7,
   "id": "d91be9d0",
   "metadata": {},
   "outputs": [],
   "source": [
    "import yfinance as yf\n",
    "import pandas as pd\n",
    "\n",
    "\n",
    "spy = yf.Ticker(\"SPY\")"
   ]
  },
  {
   "cell_type": "code",
   "execution_count": null,
   "id": "ca7aeb86",
   "metadata": {},
   "outputs": [],
   "source": [
    "# Usar period=\"max\" para obtener todos los datos disponibles\n",
    "all_data = spy.history(period=\"max\")"
   ]
  },
  {
   "cell_type": "code",
   "execution_count": 14,
   "id": "60a733e3",
   "metadata": {},
   "outputs": [],
   "source": [
    "\n",
    "def calculate_monthly_returns(df):\n",
    "    \"\"\"\n",
    "    Calcula los retornos mensuales compuestos a partir de datos de precios diarios.\n",
    "\n",
    "    Parámetros:\n",
    "    df (pd.DataFrame): DataFrame con un índice de tipo DatetimeIndex y una\n",
    "                       columna de 'Close' prices.\n",
    "\n",
    "    Retorna:\n",
    "    pd.DataFrame: DataFrame con los retornos mensuales.\n",
    "    \"\"\"\n",
    "    # 1. Calcular el retorno diario como un porcentaje\n",
    "    df['Daily_Return'] = df['Close'].pct_change()\n",
    "\n",
    "    # 2. Calcular los retornos mensuales compuestos\n",
    "    # Se suma 1 para obtener el factor de crecimiento diario\n",
    "    # Se agrupa por mes ('M') y se multiplican los factores de crecimiento con .prod()\n",
    "    # Finalmente, se resta 1 para obtener el retorno porcentual del mes\n",
    "    monthly_returns = (1 + df['Daily_Return']).resample('M').prod() - 1\n",
    "\n",
    "    # Convertir a DataFrame y renombrar la columna para mayor claridad\n",
    "    monthly_returns_df = monthly_returns.to_frame(name='Monthly_Return')\n",
    "    \n",
    "    return monthly_returns_df"
   ]
  },
  {
   "cell_type": "code",
   "execution_count": 16,
   "id": "0f7bf7ee",
   "metadata": {},
   "outputs": [
    {
     "name": "stderr",
     "output_type": "stream",
     "text": [
      "/var/folders/k3/mxmwg9sn6493d3jlrpz_d3dm0000gn/T/ipykernel_16854/1231830229.py:19: FutureWarning: 'M' is deprecated and will be removed in a future version, please use 'ME' instead.\n",
      "  monthly_returns = (1 + df['Daily_Return']).resample('M').prod() - 1\n"
     ]
    },
    {
     "data": {
      "text/html": [
       "<div>\n",
       "<style scoped>\n",
       "    .dataframe tbody tr th:only-of-type {\n",
       "        vertical-align: middle;\n",
       "    }\n",
       "\n",
       "    .dataframe tbody tr th {\n",
       "        vertical-align: top;\n",
       "    }\n",
       "\n",
       "    .dataframe thead th {\n",
       "        text-align: right;\n",
       "    }\n",
       "</style>\n",
       "<table border=\"1\" class=\"dataframe\">\n",
       "  <thead>\n",
       "    <tr style=\"text-align: right;\">\n",
       "      <th></th>\n",
       "      <th>Monthly_Return</th>\n",
       "    </tr>\n",
       "    <tr>\n",
       "      <th>Date</th>\n",
       "      <th></th>\n",
       "    </tr>\n",
       "  </thead>\n",
       "  <tbody>\n",
       "    <tr>\n",
       "      <th>1993-01-31 00:00:00-05:00</th>\n",
       "      <td>0.000000</td>\n",
       "    </tr>\n",
       "    <tr>\n",
       "      <th>1993-02-28 00:00:00-05:00</th>\n",
       "      <td>0.010668</td>\n",
       "    </tr>\n",
       "    <tr>\n",
       "      <th>1993-03-31 00:00:00-05:00</th>\n",
       "      <td>0.022400</td>\n",
       "    </tr>\n",
       "    <tr>\n",
       "      <th>1993-04-30 00:00:00-04:00</th>\n",
       "      <td>-0.025588</td>\n",
       "    </tr>\n",
       "    <tr>\n",
       "      <th>1993-05-31 00:00:00-04:00</th>\n",
       "      <td>0.026969</td>\n",
       "    </tr>\n",
       "    <tr>\n",
       "      <th>...</th>\n",
       "      <td>...</td>\n",
       "    </tr>\n",
       "    <tr>\n",
       "      <th>2025-05-31 00:00:00-04:00</th>\n",
       "      <td>0.062845</td>\n",
       "    </tr>\n",
       "    <tr>\n",
       "      <th>2025-06-30 00:00:00-04:00</th>\n",
       "      <td>0.051386</td>\n",
       "    </tr>\n",
       "    <tr>\n",
       "      <th>2025-07-31 00:00:00-04:00</th>\n",
       "      <td>0.023032</td>\n",
       "    </tr>\n",
       "    <tr>\n",
       "      <th>2025-08-31 00:00:00-04:00</th>\n",
       "      <td>0.020520</td>\n",
       "    </tr>\n",
       "    <tr>\n",
       "      <th>2025-09-30 00:00:00-04:00</th>\n",
       "      <td>0.019161</td>\n",
       "    </tr>\n",
       "  </tbody>\n",
       "</table>\n",
       "<p>393 rows × 1 columns</p>\n",
       "</div>"
      ],
      "text/plain": [
       "                           Monthly_Return\n",
       "Date                                     \n",
       "1993-01-31 00:00:00-05:00        0.000000\n",
       "1993-02-28 00:00:00-05:00        0.010668\n",
       "1993-03-31 00:00:00-05:00        0.022400\n",
       "1993-04-30 00:00:00-04:00       -0.025588\n",
       "1993-05-31 00:00:00-04:00        0.026969\n",
       "...                                   ...\n",
       "2025-05-31 00:00:00-04:00        0.062845\n",
       "2025-06-30 00:00:00-04:00        0.051386\n",
       "2025-07-31 00:00:00-04:00        0.023032\n",
       "2025-08-31 00:00:00-04:00        0.020520\n",
       "2025-09-30 00:00:00-04:00        0.019161\n",
       "\n",
       "[393 rows x 1 columns]"
      ]
     },
     "execution_count": 16,
     "metadata": {},
     "output_type": "execute_result"
    }
   ],
   "source": [
    "calculate_monthly_returns(all_data)"
   ]
  }
 ],
 "metadata": {
  "kernelspec": {
   "display_name": ".venv",
   "language": "python",
   "name": "python3"
  },
  "language_info": {
   "codemirror_mode": {
    "name": "ipython",
    "version": 3
   },
   "file_extension": ".py",
   "mimetype": "text/x-python",
   "name": "python",
   "nbconvert_exporter": "python",
   "pygments_lexer": "ipython3",
   "version": "3.13.5"
  }
 },
 "nbformat": 4,
 "nbformat_minor": 5
}
