{
 "cells": [
  {
   "cell_type": "code",
   "execution_count": 6,
   "id": "d91be9d0",
   "metadata": {},
   "outputs": [],
   "source": [
    "import yfinance as yf\n",
    "import pandas as pd\n",
    "\n",
    "\n",
    "spy = yf.Ticker(\"SPY\")"
   ]
  },
  {
   "cell_type": "code",
   "execution_count": null,
   "id": "ca7aeb86",
   "metadata": {},
   "outputs": [],
   "source": [
    "# Usar period=\"max\" para obtener todos los datos disponibles\n",
    "all_data = spy.history(period=\"max\")"
   ]
  },
  {
   "cell_type": "code",
   "execution_count": 14,
   "id": "60a733e3",
   "metadata": {},
   "outputs": [],
   "source": [
    "\n",
    "def calculate_monthly_returns(df):\n",
    "    \"\"\"\n",
    "    Calcula los retornos mensuales compuestos a partir de datos de precios diarios.\n",
    "\n",
    "    Parámetros:\n",
    "    df (pd.DataFrame): DataFrame con un índice de tipo DatetimeIndex y una\n",
    "                       columna de 'Close' prices.\n",
    "\n",
    "    Retorna:\n",
    "    pd.DataFrame: DataFrame con los retornos mensuales.\n",
    "    \"\"\"\n",
    "    # 1. Calcular el retorno diario como un porcentaje\n",
    "    df['Daily_Return'] = df['Close'].pct_change()\n",
    "\n",
    "    # 2. Calcular los retornos mensuales compuestos\n",
    "    # Se suma 1 para obtener el factor de crecimiento diario\n",
    "    # Se agrupa por mes ('M') y se multiplican los factores de crecimiento con .prod()\n",
    "    # Finalmente, se resta 1 para obtener el retorno porcentual del mes\n",
    "    monthly_returns = (1 + df['Daily_Return']).resample('M').prod() - 1\n",
    "\n",
    "    # Convertir a DataFrame y renombrar la columna para mayor claridad\n",
    "    monthly_returns_df = monthly_returns.to_frame(name='Monthly_Return')\n",
    "    \n",
    "    return monthly_returns_df"
   ]
  },
  {
   "cell_type": "code",
   "execution_count": 16,
   "id": "0f7bf7ee",
   "metadata": {},
   "outputs": [
    {
     "name": "stderr",
     "output_type": "stream",
     "text": [
      "/var/folders/k3/mxmwg9sn6493d3jlrpz_d3dm0000gn/T/ipykernel_16854/1231830229.py:19: FutureWarning: 'M' is deprecated and will be removed in a future version, please use 'ME' instead.\n",
      "  monthly_returns = (1 + df['Daily_Return']).resample('M').prod() - 1\n"
     ]
    },
    {
     "data": {
      "text/html": [
       "<div>\n",
       "<style scoped>\n",
       "    .dataframe tbody tr th:only-of-type {\n",
       "        vertical-align: middle;\n",
       "    }\n",
       "\n",
       "    .dataframe tbody tr th {\n",
       "        vertical-align: top;\n",
       "    }\n",
       "\n",
       "    .dataframe thead th {\n",
       "        text-align: right;\n",
       "    }\n",
       "</style>\n",
       "<table border=\"1\" class=\"dataframe\">\n",
       "  <thead>\n",
       "    <tr style=\"text-align: right;\">\n",
       "      <th></th>\n",
       "      <th>Monthly_Return</th>\n",
       "    </tr>\n",
       "    <tr>\n",
       "      <th>Date</th>\n",
       "      <th></th>\n",
       "    </tr>\n",
       "  </thead>\n",
       "  <tbody>\n",
       "    <tr>\n",
       "      <th>1993-01-31 00:00:00-05:00</th>\n",
       "      <td>0.000000</td>\n",
       "    </tr>\n",
       "    <tr>\n",
       "      <th>1993-02-28 00:00:00-05:00</th>\n",
       "      <td>0.010668</td>\n",
       "    </tr>\n",
       "    <tr>\n",
       "      <th>1993-03-31 00:00:00-05:00</th>\n",
       "      <td>0.022400</td>\n",
       "    </tr>\n",
       "    <tr>\n",
       "      <th>1993-04-30 00:00:00-04:00</th>\n",
       "      <td>-0.025588</td>\n",
       "    </tr>\n",
       "    <tr>\n",
       "      <th>1993-05-31 00:00:00-04:00</th>\n",
       "      <td>0.026969</td>\n",
       "    </tr>\n",
       "    <tr>\n",
       "      <th>...</th>\n",
       "      <td>...</td>\n",
       "    </tr>\n",
       "    <tr>\n",
       "      <th>2025-05-31 00:00:00-04:00</th>\n",
       "      <td>0.062845</td>\n",
       "    </tr>\n",
       "    <tr>\n",
       "      <th>2025-06-30 00:00:00-04:00</th>\n",
       "      <td>0.051386</td>\n",
       "    </tr>\n",
       "    <tr>\n",
       "      <th>2025-07-31 00:00:00-04:00</th>\n",
       "      <td>0.023032</td>\n",
       "    </tr>\n",
       "    <tr>\n",
       "      <th>2025-08-31 00:00:00-04:00</th>\n",
       "      <td>0.020520</td>\n",
       "    </tr>\n",
       "    <tr>\n",
       "      <th>2025-09-30 00:00:00-04:00</th>\n",
       "      <td>0.019161</td>\n",
       "    </tr>\n",
       "  </tbody>\n",
       "</table>\n",
       "<p>393 rows × 1 columns</p>\n",
       "</div>"
      ],
      "text/plain": [
       "                           Monthly_Return\n",
       "Date                                     \n",
       "1993-01-31 00:00:00-05:00        0.000000\n",
       "1993-02-28 00:00:00-05:00        0.010668\n",
       "1993-03-31 00:00:00-05:00        0.022400\n",
       "1993-04-30 00:00:00-04:00       -0.025588\n",
       "1993-05-31 00:00:00-04:00        0.026969\n",
       "...                                   ...\n",
       "2025-05-31 00:00:00-04:00        0.062845\n",
       "2025-06-30 00:00:00-04:00        0.051386\n",
       "2025-07-31 00:00:00-04:00        0.023032\n",
       "2025-08-31 00:00:00-04:00        0.020520\n",
       "2025-09-30 00:00:00-04:00        0.019161\n",
       "\n",
       "[393 rows x 1 columns]"
      ]
     },
     "execution_count": 16,
     "metadata": {},
     "output_type": "execute_result"
    }
   ],
   "source": [
    "calculate_monthly_returns(all_data)"
   ]
  },
  {
   "cell_type": "code",
   "execution_count": 7,
   "id": "fd7435d7",
   "metadata": {},
   "outputs": [],
   "source": [
    "def extract_gold_data():\n",
    "    # download data from the https://datahub.io/core/gold-prices/_r/-/data/monthly.csv\n",
    "    url = \"https://datahub.io/core/gold-prices/r/monthly.csv\"\n",
    "    gold_data = pd.read_csv(url)\n",
    "    gold_data['Date'] = pd.to_datetime(gold_data['Date'])\n",
    "    return gold_data\n"
   ]
  },
  {
   "cell_type": "code",
   "execution_count": 8,
   "id": "e1dc763e",
   "metadata": {},
   "outputs": [
    {
     "data": {
      "application/vnd.microsoft.datawrangler.viewer.v0+json": {
       "columns": [
        {
         "name": "index",
         "rawType": "int64",
         "type": "integer"
        },
        {
         "name": "Date",
         "rawType": "datetime64[ns]",
         "type": "datetime"
        },
        {
         "name": "Price",
         "rawType": "float64",
         "type": "float"
        }
       ],
       "ref": "f8690293-8bdd-4a2d-8a57-49576b6f5611",
       "rows": [
        [
         "0",
         "1833-01-01 00:00:00",
         "18.93"
        ],
        [
         "1",
         "1833-02-01 00:00:00",
         "18.93"
        ],
        [
         "2",
         "1833-03-01 00:00:00",
         "18.93"
        ],
        [
         "3",
         "1833-04-01 00:00:00",
         "18.93"
        ],
        [
         "4",
         "1833-05-01 00:00:00",
         "18.93"
        ],
        [
         "5",
         "1833-06-01 00:00:00",
         "18.93"
        ],
        [
         "6",
         "1833-07-01 00:00:00",
         "18.93"
        ],
        [
         "7",
         "1833-08-01 00:00:00",
         "18.93"
        ],
        [
         "8",
         "1833-09-01 00:00:00",
         "18.93"
        ],
        [
         "9",
         "1833-10-01 00:00:00",
         "18.93"
        ],
        [
         "10",
         "1833-11-01 00:00:00",
         "18.93"
        ],
        [
         "11",
         "1833-12-01 00:00:00",
         "18.93"
        ],
        [
         "12",
         "1834-01-01 00:00:00",
         "18.93"
        ],
        [
         "13",
         "1834-02-01 00:00:00",
         "18.93"
        ],
        [
         "14",
         "1834-03-01 00:00:00",
         "18.93"
        ],
        [
         "15",
         "1834-04-01 00:00:00",
         "18.93"
        ],
        [
         "16",
         "1834-05-01 00:00:00",
         "18.93"
        ],
        [
         "17",
         "1834-06-01 00:00:00",
         "18.93"
        ],
        [
         "18",
         "1834-07-01 00:00:00",
         "18.93"
        ],
        [
         "19",
         "1834-08-01 00:00:00",
         "18.93"
        ],
        [
         "20",
         "1834-09-01 00:00:00",
         "18.93"
        ],
        [
         "21",
         "1834-10-01 00:00:00",
         "18.93"
        ],
        [
         "22",
         "1834-11-01 00:00:00",
         "18.93"
        ],
        [
         "23",
         "1834-12-01 00:00:00",
         "18.93"
        ],
        [
         "24",
         "1835-01-01 00:00:00",
         "18.93"
        ],
        [
         "25",
         "1835-02-01 00:00:00",
         "18.93"
        ],
        [
         "26",
         "1835-03-01 00:00:00",
         "18.93"
        ],
        [
         "27",
         "1835-04-01 00:00:00",
         "18.93"
        ],
        [
         "28",
         "1835-05-01 00:00:00",
         "18.93"
        ],
        [
         "29",
         "1835-06-01 00:00:00",
         "18.93"
        ],
        [
         "30",
         "1835-07-01 00:00:00",
         "18.93"
        ],
        [
         "31",
         "1835-08-01 00:00:00",
         "18.93"
        ],
        [
         "32",
         "1835-09-01 00:00:00",
         "18.93"
        ],
        [
         "33",
         "1835-10-01 00:00:00",
         "18.93"
        ],
        [
         "34",
         "1835-11-01 00:00:00",
         "18.93"
        ],
        [
         "35",
         "1835-12-01 00:00:00",
         "18.93"
        ],
        [
         "36",
         "1836-01-01 00:00:00",
         "18.93"
        ],
        [
         "37",
         "1836-02-01 00:00:00",
         "18.93"
        ],
        [
         "38",
         "1836-03-01 00:00:00",
         "18.93"
        ],
        [
         "39",
         "1836-04-01 00:00:00",
         "18.93"
        ],
        [
         "40",
         "1836-05-01 00:00:00",
         "18.93"
        ],
        [
         "41",
         "1836-06-01 00:00:00",
         "18.93"
        ],
        [
         "42",
         "1836-07-01 00:00:00",
         "18.93"
        ],
        [
         "43",
         "1836-08-01 00:00:00",
         "18.93"
        ],
        [
         "44",
         "1836-09-01 00:00:00",
         "18.93"
        ],
        [
         "45",
         "1836-10-01 00:00:00",
         "18.93"
        ],
        [
         "46",
         "1836-11-01 00:00:00",
         "18.93"
        ],
        [
         "47",
         "1836-12-01 00:00:00",
         "18.93"
        ],
        [
         "48",
         "1837-01-01 00:00:00",
         "18.93"
        ],
        [
         "49",
         "1837-02-01 00:00:00",
         "18.93"
        ]
       ],
       "shape": {
        "columns": 2,
        "rows": 2311
       }
      },
      "text/html": [
       "<div>\n",
       "<style scoped>\n",
       "    .dataframe tbody tr th:only-of-type {\n",
       "        vertical-align: middle;\n",
       "    }\n",
       "\n",
       "    .dataframe tbody tr th {\n",
       "        vertical-align: top;\n",
       "    }\n",
       "\n",
       "    .dataframe thead th {\n",
       "        text-align: right;\n",
       "    }\n",
       "</style>\n",
       "<table border=\"1\" class=\"dataframe\">\n",
       "  <thead>\n",
       "    <tr style=\"text-align: right;\">\n",
       "      <th></th>\n",
       "      <th>Date</th>\n",
       "      <th>Price</th>\n",
       "    </tr>\n",
       "  </thead>\n",
       "  <tbody>\n",
       "    <tr>\n",
       "      <th>0</th>\n",
       "      <td>1833-01-01</td>\n",
       "      <td>18.93</td>\n",
       "    </tr>\n",
       "    <tr>\n",
       "      <th>1</th>\n",
       "      <td>1833-02-01</td>\n",
       "      <td>18.93</td>\n",
       "    </tr>\n",
       "    <tr>\n",
       "      <th>2</th>\n",
       "      <td>1833-03-01</td>\n",
       "      <td>18.93</td>\n",
       "    </tr>\n",
       "    <tr>\n",
       "      <th>3</th>\n",
       "      <td>1833-04-01</td>\n",
       "      <td>18.93</td>\n",
       "    </tr>\n",
       "    <tr>\n",
       "      <th>4</th>\n",
       "      <td>1833-05-01</td>\n",
       "      <td>18.93</td>\n",
       "    </tr>\n",
       "    <tr>\n",
       "      <th>...</th>\n",
       "      <td>...</td>\n",
       "      <td>...</td>\n",
       "    </tr>\n",
       "    <tr>\n",
       "      <th>2306</th>\n",
       "      <td>2025-03-01</td>\n",
       "      <td>2983.25</td>\n",
       "    </tr>\n",
       "    <tr>\n",
       "      <th>2307</th>\n",
       "      <td>2025-04-01</td>\n",
       "      <td>3217.64</td>\n",
       "    </tr>\n",
       "    <tr>\n",
       "      <th>2308</th>\n",
       "      <td>2025-05-01</td>\n",
       "      <td>3309.49</td>\n",
       "    </tr>\n",
       "    <tr>\n",
       "      <th>2309</th>\n",
       "      <td>2025-06-01</td>\n",
       "      <td>3352.66</td>\n",
       "    </tr>\n",
       "    <tr>\n",
       "      <th>2310</th>\n",
       "      <td>2025-07-01</td>\n",
       "      <td>3340.15</td>\n",
       "    </tr>\n",
       "  </tbody>\n",
       "</table>\n",
       "<p>2311 rows × 2 columns</p>\n",
       "</div>"
      ],
      "text/plain": [
       "           Date    Price\n",
       "0    1833-01-01    18.93\n",
       "1    1833-02-01    18.93\n",
       "2    1833-03-01    18.93\n",
       "3    1833-04-01    18.93\n",
       "4    1833-05-01    18.93\n",
       "...         ...      ...\n",
       "2306 2025-03-01  2983.25\n",
       "2307 2025-04-01  3217.64\n",
       "2308 2025-05-01  3309.49\n",
       "2309 2025-06-01  3352.66\n",
       "2310 2025-07-01  3340.15\n",
       "\n",
       "[2311 rows x 2 columns]"
      ]
     },
     "execution_count": 8,
     "metadata": {},
     "output_type": "execute_result"
    }
   ],
   "source": [
    "extract_gold_data()"
   ]
  }
 ],
 "metadata": {
  "kernelspec": {
   "display_name": ".venv",
   "language": "python",
   "name": "python3"
  },
  "language_info": {
   "codemirror_mode": {
    "name": "ipython",
    "version": 3
   },
   "file_extension": ".py",
   "mimetype": "text/x-python",
   "name": "python",
   "nbconvert_exporter": "python",
   "pygments_lexer": "ipython3",
   "version": "3.13.5"
  }
 },
 "nbformat": 4,
 "nbformat_minor": 5
}
