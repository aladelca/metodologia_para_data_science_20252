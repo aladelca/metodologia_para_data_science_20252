{
 "cells": [
  {
   "cell_type": "code",
   "execution_count": null,
   "id": "8447c7a8",
   "metadata": {},
   "outputs": [
    {
     "name": "stdout",
     "output_type": "stream",
     "text": [
      "¡Datos de inflación del BCRP extraídos correctamente! ✅\n",
      "Empty DataFrame\n",
      "Columns: [Mes/A&ntilde;o, Índice de precios Lima Metropolitana (índice Dic.2021 = 100) - Índice de Precios al Consumidor (IPC)<br>\"Ene.2015\", 81.1311585614732<br>\"Feb.2015\", 81.3773664204482<br>\"Mar.2015\", 81.9996299525466<br>\"Abr.2015\", 82.3198438304482<br>\"May.2015\", 82.7844285692493<br>\"Jun.2015\", 83.0595554554826<br>\"Jul.2015\", 83.4339766262131<br>\"Ago.2015\", 83.7487113799077<br>\"Sep.2015\", 83.771774250334<br>\"Oct.2015\", 83.8913998281912<br>\"Nov.2015\", 84.1800464238952<br>\"Dic.2015\", 84.5552549887266<br>\"Ene.2016\", 84.8702404031536<br>\"Feb.2016\", 85.0179920593596<br>\"Mar.2016\", 85.5265000574541<br>\"Abr.2016\", 85.5362556898337<br>\"May.2016\", 85.7155086648867<br>\"Jun.2016\", 85.8350891099251<br>\"Jul.2016\", 85.9052567561972<br>\"Ago.2016\", 86.213043138844<br>\"Sep.2016\", 86.3910421158843<br>\"Oct.2016\", 86.7481433937979<br>\"Nov.2016\", 86.9997685797355<br>\"Dic.2016\", 87.2905176704464<br>\"Ene.2017\", 87.4981321088573<br>\"Feb.2017\", 87.7809010228465<br>\"Mar.2017\", 88.9260539521744<br>\"Abr.2017\", 88.6965771763182<br>\"May.2017\", 88.3210908710632<br>\"Jun.2017\", 88.1804847816058<br>\"Jul.2017\", 88.3553341822423<br>\"Ago.2017\", 88.9492813838017<br>\"Sep.2017\", 88.9352541037068<br>\"Oct.2017\", 88.5179296753887<br>\"Nov.2017\", 88.3433392676972<br>\"Dic.2017\", 88.4819074367963<br>\"Ene.2018\", 88.594648523903<br>\"Feb.2018\", 88.8163305147703<br>\"Mar.2018\", 89.2489764935573<br>\"Abr.2018\", 89.1266401691656<br>\"May.2018\", 89.1430886514034<br>\"Jun.2018\", 89.440878461853<br>\"Jul.2018\", 89.7832456102935<br>\"Ago.2018\", 89.9015505324364<br>\"Sep.2018\", 90.0738752726222<br>\"Oct.2018\", 90.1474507938922<br>\"Nov.2018\", 90.2578255325897<br>\"Dic.2018\", 90.4218937443323<br>\"Ene.2019\", 90.4809684380851<br>\"Feb.2019\", 90.595663429072<br>\"Mar.2019\", 91.2547942250017<br>\"Abr.2019\", 91.4373773077339<br>\"May.2019\", 91.5723515157514<br>\"Jun.2019\", 91.493350335306<br>\"Jul.2019\", 91.6793898976101<br>\"Ago.2019\", 91.7352934900762<br>\"Sep.2019\", 91.7411489525572<br>\"Oct.2019\", 91.8427297350918<br>\"Nov.2019\", 91.9427558656052<br>\"Dic.2019\", 92.1399925330876<br>\"Ene.2020\", 92.1895712817569<br>\"Feb.2020\", 92.3206390707161<br>\"Mar.2020\", 92.9170303880033<br>\"Abr.2020\", 93.0142055130683<br>\"May.2020\", 93.204097335048<br>\"Jun.2020\", 92.9560841633195<br>\"Jul.2020\", 93.3861811793687<br>\"Ago.2020\", 93.2832332195989<br>\"Sep.2020\", 93.4104286127018<br>\"Oct.2020\", 93.4260987274024<br>\"Nov.2020\", 93.9123624949692<br>\"Dic.2020\", 93.9581285619732<br>\"Ene.2021\", 94.6561451002628<br>\"Feb.2021\", 94.5375735473133<br>\"Mar.2021\", 95.3311869507106<br>\"Abr.2021\", 95.2313830125361<br>\"May.2021\", 95.4852294275117<br>\"Jun.2021\", 95.9814390796482<br>\"Jul.2021\", 96.948489573628<br>\"Ago.2021\", 97.9033694822447<br>\"Sep.2021\", 98.2953966184284<br>\"Oct.2021\", 98.8691125131803<br>\"Nov.2021\", 99.2232454403164<br>\"Dic.2021\", 100<br>\"Ene.2022\", 100.037268<br>\"Feb.2022\", 100.34884<br>\"Mar.2022\", 101.836672<br>\"Abr.2022\", 102.816232<br>\"May.2022\", 103.211072<br>\"Jun.2022\", 104.439931<br>\"Jul.2022\", 105.422597<br>\"Ago.2022\", 106.125283<br>\"Sep.2022\", 106.679849<br>\"Oct.2022\", 107.050724<br>\"Nov.2022\", 107.604861<br>\"Dic.2022\", 108.459162<br>\"Ene.2023\", 108.704764<br>\"Feb.2023\", 109.024924<br>\"Mar.2023\", ...]\n",
      "Index: []\n",
      "\n",
      "[0 rows x 110 columns]\n"
     ]
    }
   ],
   "source": [
    "\n",
    "import pandas as pd\n",
    "import requests\n",
    "\n",
    "\n",
    "\n",
    "url_inflacion_bcrp = \"https://estadisticas.bcrp.gob.pe/estadisticas/series/api/PN38705PM/csv/2015-1/2023-12\"\n",
    "\n",
    "try:\n",
    "    # Descargar los datos\n",
    "    response = requests.get(url_inflacion_bcrp)\n",
    "    response.raise_for_status() # Lanza un error si la solicitud falla\n",
    "    \n",
    "    \n",
    "    from io import StringIO\n",
    "    data = StringIO(response.text)\n",
    "    df_inflacion = pd.read_csv(data)\n",
    "    \n",
    "    \n",
    "    \n",
    "    print(\"¡Datos de inflación del BCRP extraídos correctamente! ✅\")\n",
    "    print(df_inflacion.head()) # Muestra las primeras filas para verificar\n",
    "    \n",
    "except requests.exceptions.RequestException as e:\n",
    "    print(f\"Error al conectar con la fuente de datos: {e}\")\n"
   ]
  },
  {
   "cell_type": "code",
   "execution_count": null,
   "id": "a68be715",
   "metadata": {},
   "outputs": [
    {
     "data": {
      "text/plain": [
       "Index(['Mes/A&ntilde;o',\n",
       "       'Índice de precios Lima Metropolitana (índice Dic.2021 = 100) - Índice de Precios al Consumidor (IPC)<br>\"Ene.2015\"',\n",
       "       '81.1311585614732<br>\"Feb.2015\"', '81.3773664204482<br>\"Mar.2015\"',\n",
       "       '81.9996299525466<br>\"Abr.2015\"', '82.3198438304482<br>\"May.2015\"',\n",
       "       '82.7844285692493<br>\"Jun.2015\"', '83.0595554554826<br>\"Jul.2015\"',\n",
       "       '83.4339766262131<br>\"Ago.2015\"', '83.7487113799077<br>\"Sep.2015\"',\n",
       "       ...\n",
       "       '110.391537<br>\"Abr.2023\"', '111.005592<br>\"May.2023\"',\n",
       "       '111.358436<br>\"Jun.2023\"', '111.188314<br>\"Jul.2023\"',\n",
       "       '111.623134<br>\"Ago.2023\"', '112.042985<br>\"Sep.2023\"',\n",
       "       '112.061363<br>\"Oct.2023\"', '111.700024<br>\"Nov.2023\"',\n",
       "       '111.517885<br>\"Dic.2023\"', '111.9704<br>'],\n",
       "      dtype='object', length=110)"
      ]
     },
     "metadata": {},
     "output_type": "display_data"
    }
   ],
   "source": [
    "\n",
    "display(df_inflacion.columns)"
   ]
  }
 ],
 "metadata": {
  "kernelspec": {
   "display_name": "Python 3",
   "language": "python",
   "name": "python3"
  },
  "language_info": {
   "codemirror_mode": {
    "name": "ipython",
    "version": 3
   },
   "file_extension": ".py",
   "mimetype": "text/x-python",
   "name": "python",
   "nbconvert_exporter": "python",
   "pygments_lexer": "ipython3",
   "version": "3.13.7"
  }
 },
 "nbformat": 4,
 "nbformat_minor": 5
}
